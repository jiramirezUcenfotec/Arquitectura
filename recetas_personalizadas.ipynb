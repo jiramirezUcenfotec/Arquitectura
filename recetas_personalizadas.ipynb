{
  "nbformat": 4,
  "nbformat_minor": 0,
  "metadata": {
    "colab": {
      "provenance": [],
      "authorship_tag": "ABX9TyPAx/vCeXeP6k+NVBhb+8F9",
      "include_colab_link": true
    },
    "kernelspec": {
      "name": "python3",
      "display_name": "Python 3"
    },
    "language_info": {
      "name": "python"
    }
  },
  "cells": [
    {
      "cell_type": "markdown",
      "metadata": {
        "id": "view-in-github",
        "colab_type": "text"
      },
      "source": [
        "<a href=\"https://colab.research.google.com/github/jiramirezUcenfotec/Arquitectura/blob/main/recetas_personalizadas.ipynb\" target=\"_parent\"><img src=\"https://colab.research.google.com/assets/colab-badge.svg\" alt=\"Open In Colab\"/></a>"
      ]
    },
    {
      "cell_type": "code",
      "execution_count": 2,
      "metadata": {
        "colab": {
          "base_uri": "https://localhost:8080/"
        },
        "id": "pElqIfl0wfBS",
        "outputId": "3fa7ee99-610d-4e1d-a2e7-ebe69ff10a9b"
      },
      "outputs": [
        {
          "output_type": "stream",
          "name": "stdout",
          "text": [
            "['Tofu con arroz', 'Pollo a la plancha']\n"
          ]
        }
      ],
      "source": [
        "class Usuario:\n",
        "    def __init__(self, id, nombre, preferencias, restricciones):\n",
        "        self.id = id\n",
        "        self.nombre = nombre\n",
        "        self.preferencias = preferencias\n",
        "        self.restricciones = restricciones\n",
        "\n",
        "class Ingrediente:\n",
        "    def __init__(self, nombre, es_vegano, es_gluten_free, calorias):\n",
        "        self.nombre = nombre\n",
        "        self.es_vegano = es_vegano\n",
        "        self.es_gluten_free = es_gluten_free\n",
        "        self.calorias = calorias\n",
        "\n",
        "class Receta:\n",
        "    def __init__(self, id, nombre, ingredientes):\n",
        "        self.id = id\n",
        "        self.nombre = nombre\n",
        "        self.ingredientes = ingredientes\n",
        "\n",
        "    def filtrar_receta(self, usuario):\n",
        "        # El código actual filtra según restricciones y preferencias\n",
        "        ingredientes_validos = []\n",
        "        for ingrediente in self.ingredientes:\n",
        "            if ingrediente.es_vegano and 'vegano' in usuario.preferencias:\n",
        "                ingredientes_validos.append(ingrediente)\n",
        "            elif ingrediente.es_gluten_free and 'gluten_free' in usuario.restricciones:\n",
        "                ingredientes_validos.append(ingrediente)\n",
        "            elif ingrediente.calorias < 500:\n",
        "                ingredientes_validos.append(ingrediente)\n",
        "        return ingredientes_validos\n",
        "\n",
        "class SistemaRecetas:\n",
        "    def __init__(self):\n",
        "        self.recetas = []\n",
        "        self.usuarios = []\n",
        "\n",
        "    def agregar_receta(self, receta):\n",
        "        self.recetas.append(receta)\n",
        "\n",
        "    def agregar_usuario(self, usuario):\n",
        "        self.usuarios.append(usuario)\n",
        "\n",
        "    def generar_recetas_personalizadas(self, usuario_id):\n",
        "        usuario = next((u for u in self.usuarios if u.id == usuario_id), None)\n",
        "        if not usuario:\n",
        "            return \"Usuario no encontrado\"\n",
        "\n",
        "        recetas_personalizadas = []\n",
        "        for receta in self.recetas:\n",
        "            ingredientes_filtrados = receta.filtrar_receta(usuario)\n",
        "            if ingredientes_filtrados:\n",
        "                recetas_personalizadas.append(receta.nombre)\n",
        "        return recetas_personalizadas\n",
        "\n",
        "# Uso del sistema\n",
        "usuario1 = Usuario(1, \"Juan\", [\"vegano\", \"bajo en calorías\"], [\"sin_gluten\"])\n",
        "usuario2 = Usuario(2, \"Ana\", [\"sin_calorias\"], [\"sin_gluten\", \"sin_azúcar\"])\n",
        "\n",
        "ingrediente1 = Ingrediente(\"Tofu\", True, True, 150)\n",
        "ingrediente2 = Ingrediente(\"Arroz\", False, True, 200)\n",
        "ingrediente3 = Ingrediente(\"Pollo\", False, False, 350)\n",
        "\n",
        "receta1 = Receta(1, \"Tofu con arroz\", [ingrediente1, ingrediente2])\n",
        "receta2 = Receta(2, \"Pollo a la plancha\", [ingrediente3])\n",
        "\n",
        "sistema = SistemaRecetas()\n",
        "sistema.agregar_receta(receta1)\n",
        "sistema.agregar_receta(receta2)\n",
        "\n",
        "sistema.agregar_usuario(usuario1)\n",
        "sistema.agregar_usuario(usuario2)\n",
        "\n",
        "print(sistema.generar_recetas_personalizadas(1))"
      ]
    }
  ]
}