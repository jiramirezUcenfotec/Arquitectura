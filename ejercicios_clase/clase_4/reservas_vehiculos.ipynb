{
  "nbformat": 4,
  "nbformat_minor": 0,
  "metadata": {
    "colab": {
      "provenance": [],
      "authorship_tag": "ABX9TyOZKowW+ii2qJGL0pICWpIV",
      "include_colab_link": true
    },
    "kernelspec": {
      "name": "python3",
      "display_name": "Python 3"
    },
    "language_info": {
      "name": "python"
    }
  },
  "cells": [
    {
      "cell_type": "markdown",
      "metadata": {
        "id": "view-in-github",
        "colab_type": "text"
      },
      "source": [
        "<a href=\"https://colab.research.google.com/github/jiramirezUcenfotec/Arquitectura/blob/main/reservas_vehiculos.ipynb\" target=\"_parent\"><img src=\"https://colab.research.google.com/assets/colab-badge.svg\" alt=\"Open In Colab\"/></a>"
      ]
    },
    {
      "cell_type": "code",
      "execution_count": 1,
      "metadata": {
        "colab": {
          "base_uri": "https://localhost:8080/"
        },
        "id": "mPMeid8d7wIs",
        "outputId": "0bf3574c-3d02-4ded-bd5c-f6b179da2ffc"
      },
      "outputs": [
        {
          "output_type": "stream",
          "name": "stdout",
          "text": [
            "Procesando pago de $200.0 con tarjeta\n",
            "Reporte de alquiler: Juan Pérez alquiló un Toyota Corolla por 5 días.\n",
            "Total a pagar: $200.0\n",
            "Total después de aplicar promoción: $180.0\n"
          ]
        }
      ],
      "source": [
        "class Vehiculo:\n",
        "    def __init__(self, id, tipo, marca, modelo, precio_por_dia):\n",
        "        self.id = id\n",
        "        self.tipo = tipo\n",
        "        self.marca = marca\n",
        "        self.modelo = modelo\n",
        "        self.precio_por_dia = precio_por_dia\n",
        "\n",
        "class Cliente:\n",
        "    def __init__(self, id, nombre, correo, tipo_membresia):\n",
        "        self.id = id\n",
        "        self.nombre = nombre\n",
        "        self.correo = correo\n",
        "        self.tipo_membresia = tipo_membresia\n",
        "\n",
        "    def obtener_descuento(self):\n",
        "        if self.tipo_membresia == \"gold\":\n",
        "            return 0.2\n",
        "        elif self.tipo_membresia == \"platinum\":\n",
        "            return 0.3\n",
        "        return 0\n",
        "\n",
        "class Alquiler:\n",
        "    def __init__(self, cliente, vehiculo, dias):\n",
        "        self.cliente = cliente\n",
        "        self.vehiculo = vehiculo\n",
        "        self.dias = dias\n",
        "\n",
        "    def calcular_pago(self):\n",
        "        descuento = self.cliente.obtener_descuento()\n",
        "        total = self.vehiculo.precio_por_dia * self.dias\n",
        "        return total - (total * descuento)\n",
        "\n",
        "    def procesar_pago(self, metodo_pago):\n",
        "        if metodo_pago == \"tarjeta\":\n",
        "            print(f\"Procesando pago de ${self.calcular_pago()} con tarjeta\")\n",
        "        elif metodo_pago == \"paypal\":\n",
        "            print(f\"Procesando pago de ${self.calcular_pago()} con PayPal\")\n",
        "        else:\n",
        "            print(\"Método de pago no soportado\")\n",
        "\n",
        "    def generar_reporte(self):\n",
        "        print(f\"Reporte de alquiler: {self.cliente.nombre} alquiló un {self.vehiculo.marca} {self.vehiculo.modelo} por {self.dias} días.\")\n",
        "        print(f\"Total a pagar: ${self.calcular_pago()}\")\n",
        "\n",
        "class Promocion:\n",
        "    def __init__(self, codigo, descuento):\n",
        "        self.codigo = codigo\n",
        "        self.descuento = descuento\n",
        "\n",
        "    def aplicar_descuento(self, alquiler):\n",
        "        total = alquiler.calcular_pago()\n",
        "        return total - (total * self.descuento)\n",
        "\n",
        "class RepositorioVehiculos:\n",
        "    def __init__(self):\n",
        "        self.vehiculos = [\n",
        "            Vehiculo(1, \"Sedán\", \"Toyota\", \"Corolla\", 50),\n",
        "            Vehiculo(2, \"SUV\", \"Honda\", \"CR-V\", 80),\n",
        "        ]\n",
        "\n",
        "    def obtener_vehiculo(self, id):\n",
        "        return next((vehiculo for vehiculo in self.vehiculos if vehiculo.id == id), None)\n",
        "\n",
        "class RepositorioClientes:\n",
        "    def __init__(self):\n",
        "        self.clientes = [\n",
        "            Cliente(1, \"Juan Pérez\", \"juan@correo.com\", \"gold\"),\n",
        "            Cliente(2, \"Ana Gómez\", \"ana@correo.com\", \"platinum\"),\n",
        "        ]\n",
        "\n",
        "    def obtener_cliente(self, id):\n",
        "        return next((cliente for cliente in self.clientes if cliente.id == id), None)\n",
        "\n",
        "# Uso del sistema\n",
        "repositorio_vehiculos = RepositorioVehiculos()\n",
        "repositorio_clientes = RepositorioClientes()\n",
        "\n",
        "vehiculo = repositorio_vehiculos.obtener_vehiculo(1)\n",
        "cliente = repositorio_clientes.obtener_cliente(1)\n",
        "\n",
        "alquiler = Alquiler(cliente, vehiculo, 5)\n",
        "alquiler.procesar_pago(\"tarjeta\")\n",
        "alquiler.generar_reporte()\n",
        "\n",
        "# Aplicar promoción\n",
        "promocion = Promocion(\"DESCUENTO10\", 0.1)\n",
        "nuevo_total = promocion.aplicar_descuento(alquiler)\n",
        "print(f\"Total después de aplicar promoción: ${nuevo_total}\")"
      ]
    }
  ]
}